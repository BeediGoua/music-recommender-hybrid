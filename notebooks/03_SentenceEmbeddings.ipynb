{
 "cells": [
  {
   "cell_type": "code",
   "execution_count": null,
   "id": "c16c1059",
   "metadata": {},
   "outputs": [],
   "source": [
    "%load_ext autoreload\n",
    "%autoreload 2\n",
    "import sys\n",
    "from pathlib import Path\n",
    "\n",
    "\n",
    "#  Définir la racine du projet (répertoire parent du script)\n",
    "\n",
    "base_dir = Path().resolve().parent\n",
    "#  Définir les sous-dossiers\n",
    "src_dir = base_dir / \"src\"\n",
    "inputs_dir = base_dir / \"data\"\n",
    "outputs_dir = base_dir / \"outputs\"\n",
    "notebooks_dir = base_dir / \"notebooks\"\n",
    "\n",
    "\n",
    "# Créer les dossiers s’ils n’existent pas\n",
    "for folder in [src_dir, inputs_dir, outputs_dir,notebooks_dir]:\n",
    "    sys.path.append(str(folder))  \n"
   ]
  },
  {
   "cell_type": "code",
   "execution_count": 2,
   "id": "2481a7ea",
   "metadata": {},
   "outputs": [
    {
     "name": "stdout",
     "output_type": "stream",
     "text": [
      "Shape corpus : (158368, 5)\n",
      "                        track_id                             title  \\\n",
      "dedup_id                                                             \n",
      "0         0BRjO6ga9RKCKjfDqeFgWV       C'est beau de faire un Show   \n",
      "1         0BjC1NfoEOOusryehmNudP  Perdu d'avance (par Gad Elmaleh)   \n",
      "2         0CoSDzoNIKCRs124s9uTVy    Don't Let Me Be Lonely Tonight   \n",
      "\n",
      "                     artist  genre  duration_sec  \n",
      "dedup_id                                          \n",
      "0            Henri Salvador  Movie        99.373  \n",
      "1         Martin & les fées  Movie       137.373  \n",
      "2           Joseph Williams  Movie       170.267  \n",
      "\n",
      "Colonnes disponibles : ['track_id', 'title', 'artist', 'genre', 'duration_sec']\n"
     ]
    }
   ],
   "source": [
    "import pandas as pd \n",
    "# Charger le corpus metadata\n",
    "\n",
    "songs_df = pd.read_csv(outputs_dir / \"songs_metadata_dedup.csv\", index_col=0)\n",
    "\n",
    "print(f\"Shape corpus : {songs_df.shape}\")\n",
    "print(songs_df.head(3))\n",
    "print(\"\\nColonnes disponibles :\", songs_df.columns.tolist())"
   ]
  },
  {
   "cell_type": "code",
   "execution_count": 3,
   "id": "b367b4aa",
   "metadata": {},
   "outputs": [
    {
     "name": "stdout",
     "output_type": "stream",
     "text": [
      "Exemple phrase : Song title: \"C'est beau de faire un Show\". Artist: Henri Salvador. Genre: Movie.\n",
      "Nb total de textes à encoder : 158368\n"
     ]
    }
   ],
   "source": [
    "# Créer le champ texte concaténé\n",
    "texts = (\n",
    "    'Song title: \"' + songs_df['title'].astype(str) + '\". ' +\n",
    "    \"Artist: \" + songs_df['artist'].astype(str) + \". \" +\n",
    "    \"Genre: \" + songs_df['genre'].astype(str) + \".\"\n",
    ").tolist()\n",
    "\n",
    "print(f\"Exemple phrase : {texts[0]}\")\n",
    "print(f\"Nb total de textes à encoder : {len(texts)}\")\n"
   ]
  },
  {
   "cell_type": "code",
   "execution_count": 4,
   "id": "511be2ff",
   "metadata": {},
   "outputs": [
    {
     "name": "stdout",
     "output_type": "stream",
     "text": [
      "2.2.2+cpu\n"
     ]
    }
   ],
   "source": [
    "import torch\n",
    "print(torch.__version__)\n"
   ]
  },
  {
   "cell_type": "code",
   "execution_count": 5,
   "id": "3393c185",
   "metadata": {},
   "outputs": [
    {
     "name": "stdout",
     "output_type": "stream",
     "text": [
      "Modèle SentenceTransformer chargé : all-MiniLM-L6-v2\n"
     ]
    }
   ],
   "source": [
    "from sentence_transformers import SentenceTransformer\n",
    "\n",
    "# Charger SentenceTransformer\n",
    "\n",
    "model_st = SentenceTransformer('all-MiniLM-L6-v2')\n",
    "\n",
    "print(\"Modèle SentenceTransformer chargé : all-MiniLM-L6-v2\")\n",
    "\n",
    "\n",
    "\n",
    "\n"
   ]
  },
  {
   "cell_type": "code",
   "execution_count": 6,
   "id": "dc4ec431",
   "metadata": {},
   "outputs": [
    {
     "data": {
      "application/vnd.jupyter.widget-view+json": {
       "model_id": "318a590ddf4345b7b187f5f222047fed",
       "version_major": 2,
       "version_minor": 0
      },
      "text/plain": [
       "Batches:   0%|          | 0/2475 [00:00<?, ?it/s]"
      ]
     },
     "metadata": {},
     "output_type": "display_data"
    }
   ],
   "source": [
    "\n",
    "# Encoder tous les textes\n",
    "\n",
    "content_embeddings = model_st.encode(\n",
    "    texts,\n",
    "    batch_size=64,\n",
    "    show_progress_bar=True,\n",
    "    normalize_embeddings=True  # important pour cosine similarity direct\n",
    ")\n"
   ]
  },
  {
   "cell_type": "code",
   "execution_count": 7,
   "id": "6f047e01",
   "metadata": {},
   "outputs": [
    {
     "name": "stdout",
     "output_type": "stream",
     "text": [
      "Shape embeddings : (158368, 384)\n"
     ]
    }
   ],
   "source": [
    "\n",
    "print(f\"Shape embeddings : {content_embeddings.shape}\")"
   ]
  },
  {
   "cell_type": "code",
   "execution_count": 8,
   "id": "e339b0fd",
   "metadata": {},
   "outputs": [
    {
     "name": "stdout",
     "output_type": "stream",
     "text": [
      "Embeddings sauvegardés sous : C:\\Users\\beedi.goua_square-ma\\Desktop\\Gheb\\projet perso\\music-recommender-hybrid\\data\\processed\\content_embeddings.npy\n"
     ]
    }
   ],
   "source": [
    "# Sauver embeddings\n",
    "import numpy as np \n",
    "output_path = inputs_dir / \"processed/content_embeddings.npy\"\n",
    "np.save(output_path, content_embeddings)\n",
    "\n",
    "print(f\"Embeddings sauvegardés sous : {output_path}\")\n"
   ]
  },
  {
   "cell_type": "code",
   "execution_count": 9,
   "id": "a6676dc3",
   "metadata": {},
   "outputs": [
    {
     "name": "stdout",
     "output_type": "stream",
     "text": [
      "Cosine Similarity [0 vs 1] : 0.4839\n"
     ]
    }
   ],
   "source": [
    "\n",
    "# Vérification : sim cosinus\n",
    "\n",
    "from numpy import dot\n",
    "from numpy.linalg import norm\n",
    "\n",
    "vec1 = content_embeddings[0]\n",
    "vec2 = content_embeddings[1]\n",
    "\n",
    "cos_sim = dot(vec1, vec2)  \n",
    "print(f\"Cosine Similarity [0 vs 1] : {cos_sim:.4f}\")\n"
   ]
  }
 ],
 "metadata": {
  "kernelspec": {
   "display_name": "Python 3",
   "language": "python",
   "name": "python3"
  },
  "language_info": {
   "codemirror_mode": {
    "name": "ipython",
    "version": 3
   },
   "file_extension": ".py",
   "mimetype": "text/x-python",
   "name": "python",
   "nbconvert_exporter": "python",
   "pygments_lexer": "ipython3",
   "version": "3.11.8"
  }
 },
 "nbformat": 4,
 "nbformat_minor": 5
}
