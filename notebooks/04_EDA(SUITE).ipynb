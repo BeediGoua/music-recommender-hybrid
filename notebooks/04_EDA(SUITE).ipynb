{
 "cells": [
  {
   "cell_type": "markdown",
   "id": "feb5e3d4",
   "metadata": {},
   "source": [
    "<!--\n",
    " Copyright 2025 beedi.goua_square-ma\n",
    " \n",
    " Licensed under the Apache License, Version 2.0 (the \"License\");\n",
    " you may not use this file except in compliance with the License.\n",
    " You may obtain a copy of the License at\n",
    " \n",
    "     https://www.apache.org/licenses/LICENSE-2.0\n",
    " \n",
    " Unless required by applicable law or agreed to in writing, software\n",
    " distributed under the License is distributed on an \"AS IS\" BASIS,\n",
    " WITHOUT WARRANTIES OR CONDITIONS OF ANY KIND, either express or implied.\n",
    " See the License for the specific language governing permissions and\n",
    " limitations under the License.\n",
    "-->\n",
    "\n"
   ]
  },
  {
   "cell_type": "code",
   "execution_count": 8,
   "id": "e475f161",
   "metadata": {},
   "outputs": [
    {
     "name": "stdout",
     "output_type": "stream",
     "text": [
      "The autoreload extension is already loaded. To reload it, use:\n",
      "  %reload_ext autoreload\n"
     ]
    }
   ],
   "source": [
    "\n",
    "# Activer autoreload pour dev local\n",
    "\n",
    "%load_ext autoreload\n",
    "%autoreload 2\n",
    "\n",
    "import sys\n",
    "from pathlib import Path\n",
    "import pandas as pd\n",
    "import numpy as np\n"
   ]
  },
  {
   "cell_type": "code",
   "execution_count": 9,
   "id": "1e9813f7",
   "metadata": {},
   "outputs": [],
   "source": [
    "\n",
    "# Définir les dossiers du projet\n",
    "\n",
    "base_dir = Path().resolve().parent\n",
    "\n",
    "src_dir = base_dir / \"src\"\n",
    "inputs_dir = base_dir / \"data\"\n",
    "outputs_dir = base_dir / \"outputs\"\n",
    "notebooks_dir = base_dir / \"notebooks\"\n",
    "\n",
    "# Ajouter aux chemins Python\n",
    "for folder in [src_dir, inputs_dir, outputs_dir, notebooks_dir]:\n",
    "    sys.path.append(str(folder))\n",
    "\n"
   ]
  },
  {
   "cell_type": "code",
   "execution_count": 10,
   "id": "7c164eff",
   "metadata": {},
   "outputs": [
    {
     "name": "stdout",
     "output_type": "stream",
     "text": [
      "Vocab shape : (158207, 1)\n",
      "Metadata shape : (158368, 5)\n",
      "--------------------\n",
      "                        track_id                             title  \\\n",
      "dedup_id                                                             \n",
      "0         0BRjO6ga9RKCKjfDqeFgWV       C'est beau de faire un Show   \n",
      "1         0BjC1NfoEOOusryehmNudP  Perdu d'avance (par Gad Elmaleh)   \n",
      "2         0CoSDzoNIKCRs124s9uTVy    Don't Let Me Be Lonely Tonight   \n",
      "3         0Gc6TVm52BwZD07Ki6tIvf    Dis-moi Monsieur Gordon Cooper   \n",
      "4         0IuslXpMROHdEPvSl1fTQK                         Ouverture   \n",
      "\n",
      "                     artist  genre  duration_sec  \n",
      "dedup_id                                          \n",
      "0            Henri Salvador  Movie        99.373  \n",
      "1         Martin & les fées  Movie       137.373  \n",
      "2           Joseph Williams  Movie       170.267  \n",
      "3            Henri Salvador  Movie       152.427  \n",
      "4              Fabien Nataf  Movie        82.625  \n"
     ]
    }
   ],
   "source": [
    "\n",
    "# Charger vocab et metadata\n",
    "\n",
    "vocab = pd.read_csv(inputs_dir / \"processed/word2vec_vocab.csv\")\n",
    "meta = pd.read_csv(outputs_dir / \"songs_metadata_dedup.csv\", index_col=0)\n",
    "\n",
    "print(f\"Vocab shape : {vocab.shape}\")\n",
    "print(f\"Metadata shape : {meta.shape}\")\n",
    "print(f\"--------------------\")\n",
    "print(meta.head())\n"
   ]
  },
  {
   "cell_type": "code",
   "execution_count": 11,
   "id": "536525cd",
   "metadata": {},
   "outputs": [
    {
     "name": "stdout",
     "output_type": "stream",
     "text": [
      "Duplicata track_id : 161\n",
      "Duplicata (title, artist) : 0\n"
     ]
    }
   ],
   "source": [
    "\n",
    "# Vérifier duplicata\n",
    "\n",
    "print(f\"Duplicata track_id : {meta['track_id'].duplicated().sum()}\")\n",
    "print(f\"Duplicata (title, artist) : {meta.duplicated(subset=['title', 'artist']).sum()}\")\n"
   ]
  },
  {
   "cell_type": "code",
   "execution_count": 12,
   "id": "c5b1426e",
   "metadata": {},
   "outputs": [
    {
     "name": "stdout",
     "output_type": "stream",
     "text": [
      "IDs du vocab manquants dans metadata : 0\n",
      "Shape après drop_duplicates : (158207, 5)\n",
      "Duplicata track_id après clean : 0\n"
     ]
    }
   ],
   "source": [
    "\n",
    "# Vérifier correspondance vocab <> metadata\n",
    "\n",
    "vocab_ids = set(vocab['track_id'].astype(str))\n",
    "meta_ids = set(meta['track_id'].astype(str))\n",
    "\n",
    "missing_in_meta = vocab_ids - meta_ids\n",
    "print(f\"IDs du vocab manquants dans metadata : {len(missing_in_meta)}\")\n",
    "if missing_in_meta:\n",
    "    print(f\"Exemple : {list(missing_in_meta)[:5]}\")\n",
    "\n",
    "\n",
    "#  Supprimer duplicata track_id\n",
    "\n",
    "meta_clean = meta.drop_duplicates(subset=['track_id'])\n",
    "print(f\"Shape après drop_duplicates : {meta_clean.shape}\")\n",
    "print(f\"Duplicata track_id après clean : {meta_clean['track_id'].duplicated().sum()}\")\n"
   ]
  },
  {
   "cell_type": "code",
   "execution_count": 13,
   "id": "13ab50e2",
   "metadata": {},
   "outputs": [
    {
     "name": "stdout",
     "output_type": "stream",
     "text": [
      "IDs du vocab encore manquants après clean : 0\n"
     ]
    }
   ],
   "source": [
    "\n",
    "# Vérifier de nouveau cohérence\n",
    "meta_ids_clean = set(meta_clean['track_id'].astype(str))\n",
    "missing_after_clean = vocab_ids - meta_ids_clean\n",
    "print(f\"IDs du vocab encore manquants après clean : {len(missing_after_clean)}\")\n"
   ]
  },
  {
   "cell_type": "code",
   "execution_count": 14,
   "id": "7a923591",
   "metadata": {},
   "outputs": [
    {
     "name": "stdout",
     "output_type": "stream",
     "text": [
      "track_id        0\n",
      "title           0\n",
      "artist          0\n",
      "genre           0\n",
      "duration_sec    0\n",
      "dtype: int64\n"
     ]
    }
   ],
   "source": [
    "\n",
    "# Vérifier colonnes NaN sur version clean\n",
    "\n",
    "print(meta_clean.isna().sum())\n",
    "\n",
    "\n"
   ]
  },
  {
   "cell_type": "code",
   "execution_count": 15,
   "id": "31897b73",
   "metadata": {},
   "outputs": [
    {
     "name": "stdout",
     "output_type": "stream",
     "text": [
      "Sauvegardé : C:\\Users\\beedi.goua_square-ma\\Desktop\\Gheb\\projet perso\\music-recommender-hybrid\\data\\processed\\songs_metadata_clean.csv\n"
     ]
    }
   ],
   "source": [
    "\n",
    "#  Sauvegarder version clean prête\n",
    "\n",
    "save_path = inputs_dir / \"processed/songs_metadata_clean.csv\"\n",
    "meta_clean.to_csv(save_path, index=False)\n",
    "print(f\"Sauvegardé : {save_path}\")\n"
   ]
  }
 ],
 "metadata": {
  "kernelspec": {
   "display_name": "Python 3",
   "language": "python",
   "name": "python3"
  },
  "language_info": {
   "codemirror_mode": {
    "name": "ipython",
    "version": 3
   },
   "file_extension": ".py",
   "mimetype": "text/x-python",
   "name": "python",
   "nbconvert_exporter": "python",
   "pygments_lexer": "ipython3",
   "version": "3.11.8"
  }
 },
 "nbformat": 4,
 "nbformat_minor": 5
}
