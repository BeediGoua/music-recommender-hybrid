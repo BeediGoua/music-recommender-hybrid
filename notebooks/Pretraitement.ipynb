{
 "cells": [
  {
   "cell_type": "code",
   "execution_count": 5,
   "id": "8eae7bbf",
   "metadata": {},
   "outputs": [],
   "source": [
    "%load_ext autoreload\n",
    "%autoreload 2\n"
   ]
  },
  {
   "cell_type": "code",
   "execution_count": 6,
   "id": "13751c52",
   "metadata": {},
   "outputs": [],
   "source": [
    "import sys\n",
    "from pathlib import Path\n",
    "\n",
    "\n",
    "# === 1. Définir la racine du projet (répertoire parent du script)\n",
    "\n",
    "base_dir = Path().resolve().parent\n",
    "# === 2. Définir les sous-dossiers\n",
    "src_dir = base_dir / \"src\"\n",
    "inputs_dir = base_dir / \"data\"\n",
    "outputs_dir = base_dir / \"outputs\"\n",
    "notebooks_dir = base_dir / \"notebooks\"\n",
    "\n",
    "\n",
    "# === 3. Créer les dossiers s’ils n’existent pas\n",
    "for folder in [src_dir, inputs_dir, outputs_dir,notebooks_dir]:\n",
    "    folder.mkdir(parents=True, exist_ok=True)\n",
    "    sys.path.append(str(folder))  \n"
   ]
  },
  {
   "cell_type": "markdown",
   "id": "ec013f3b",
   "metadata": {},
   "source": [
    "# Téléchargement"
   ]
  },
  {
   "cell_type": "code",
   "execution_count": null,
   "id": "7f6121cb",
   "metadata": {},
   "outputs": [
    {
     "name": "stdout",
     "output_type": "stream",
     "text": [
      "Dossier 'data' prêt.\n",
      " Position : c:\\Users\\beedi.goua_square-ma\\Desktop\\Gheb\\projet perso\\music-recommender-hybrid\\notebooks\\data\n",
      " Téléchargement de fma_metadata.zip ...\n",
      " Téléchargement de fma_small.zip ...\n"
     ]
    }
   ],
   "source": [
    "\"\"\"import os\n",
    "import subprocess\n",
    "\n",
    "#  Créer le dossier 'data'\n",
    "os.makedirs(\"data\", exist_ok=True)\n",
    "print(\"Dossier 'data' prêt.\")\n",
    "\n",
    "# 2️Aller dans 'data'\n",
    "os.chdir(\"data\")\n",
    "print(\" Position :\", os.getcwd())\n",
    "\n",
    "# URLs à télécharger\n",
    "urls = [\n",
    "    \"https://os.unil.cloud.switch.ch/fma/fma_metadata.zip\",\n",
    "    \"https://os.unil.cloud.switch.ch/fma/fma_small.zip\",\n",
    "    \"https://os.unil.cloud.switch.ch/fma/fma_medium.zip\",\n",
    "    \"https://os.unil.cloud.switch.ch/fma/fma_large.zip\",\n",
    "    \"https://os.unil.cloud.switch.ch/fma/fma_full.zip\",\n",
    "]\n",
    "\n",
    "# Télécharger chaque fichier si pas déjà présent\n",
    "for url in urls:\n",
    "    file = os.path.basename(url)\n",
    "    if not os.path.exists(file):\n",
    "        print(f\" Téléchargement de {file} ...\")\n",
    "        subprocess.run([\n",
    "            \"powershell\",\n",
    "            \"-Command\",\n",
    "            f\"Invoke-WebRequest -Uri '{url}' -OutFile '{file}'\"\n",
    "        ], check=True)\n",
    "    else:\n",
    "        print(f\"{file} existe déjà.\")\n",
    "\"\"\""
   ]
  },
  {
   "cell_type": "code",
   "execution_count": null,
   "id": "3d26c497",
   "metadata": {},
   "outputs": [],
   "source": [
    "\"\"\"\n",
    "# Vérifier les SHA1\n",
    "checksums = {\n",
    "    \"fma_metadata.zip\": \"f0df49ffe5f2a6008d7dc83c6915b31835dfe733\",\n",
    "    \"fma_small.zip\":    \"ade154f733639d52e35e32f5593efe5be76c6d70\",\n",
    "    \"fma_medium.zip\":   \"c67b69ea232021025fca9231fc1c7c1a063ab50b\",\n",
    "    \"fma_large.zip\":    \"497109f4dd721066b5ce5e5f250ec604dc78939e\",\n",
    "    \"fma_full.zip\":     \"0f0ace23fbe9ba30ecb7e95f763e435ea802b8ab\",\n",
    "}\n",
    "\n",
    "for file, expected_hash in checksums.items():\n",
    "    result = subprocess.run(\n",
    "        [\"powershell\", \"-Command\", f\"Get-FileHash -Path '{file}' -Algorithm SHA1 | Select-Object -ExpandProperty Hash\"],\n",
    "        capture_output=True, text=True\n",
    "    )\n",
    "    file_hash = result.stdout.strip()\n",
    "    if file_hash == expected_hash:\n",
    "        print(f\" {file} : checksum OK\")\n",
    "    else:\n",
    "        print(f\" {file} : checksum FAIL\")\n",
    "\n",
    "#  Décompresser chaque fichier s'il n'est pas déjà extrait\n",
    "for zip_file in checksums.keys():\n",
    "    folder = os.path.splitext(zip_file)[0]\n",
    "    if not os.path.exists(folder):\n",
    "        print(f\" Décompression de {zip_file} ...\")\n",
    "        subprocess.run([\"powershell\", \"-Command\", f\"Expand-Archive -Path '{zip_file}' -DestinationPath '.\\\\'\"], check=True)\n",
    "    else:\n",
    "        print(f\" {zip_file} déjà décompressé.\")\n",
    "\n",
    "\n",
    "\"\"\""
   ]
  },
  {
   "cell_type": "code",
   "execution_count": null,
   "id": "5b3f5a73",
   "metadata": {},
   "outputs": [],
   "source": [
    "\"\"\"#  Remonter au dossier parent\n",
    "os.chdir(\"..\")\n",
    "print(\" Retour :\", os.getcwd())\"\"\""
   ]
  },
  {
   "cell_type": "markdown",
   "id": "c14adc14",
   "metadata": {},
   "source": [
    "## Parsing playlists"
   ]
  },
  {
   "cell_type": "code",
   "execution_count": 7,
   "id": "7d201fa3",
   "metadata": {},
   "outputs": [
    {
     "name": "stdout",
     "output_type": "stream",
     "text": [
      "CSV chargé : (232725, 18)\n"
     ]
    }
   ],
   "source": [
    "import os\n",
    "import pandas as pd\n",
    "import pickle\n",
    "\n",
    "spotify_file = inputs_dir / \"SpotifyFeatures.csv\"\n",
    "\n",
    "\n",
    "# Charger le CSV\n",
    "df = pd.read_csv(spotify_file)\n",
    "\n",
    "print(f\"CSV chargé : {df.shape}\")\n"
   ]
  },
  {
   "cell_type": "code",
   "execution_count": null,
   "id": "dfa5061a",
   "metadata": {},
   "outputs": [
    {
     "name": "stdout",
     "output_type": "stream",
     "text": [
      "Colonnes dispo : ['genre', 'artist_name', 'track_name', 'track_id', 'popularity', 'acousticness', 'danceability', 'duration_ms', 'energy', 'instrumentalness', 'key', 'liveness', 'loudness', 'mode', 'speechiness', 'tempo', 'time_signature', 'valence']\n"
     ]
    }
   ],
   "source": [
    "\n",
    "# Vérifier colonnes disponibles\n",
    "print(\"Colonnes dispo :\", df.columns.tolist())\n"
   ]
  },
  {
   "cell_type": "code",
   "execution_count": 9,
   "id": "d1824553",
   "metadata": {},
   "outputs": [],
   "source": [
    "# ➜ Colonnes clés\n",
    "COLUMNS = ['track_id', 'track_name', 'artist_name', 'genre', 'duration_ms']\n",
    "\n",
    "# Extraire sous-DataFrame\n",
    "songs_df = df[COLUMNS].copy()\n",
    "\n",
    "# Renommer propre\n",
    "songs_df.rename(columns={\n",
    "    'track_name': 'title',\n",
    "    'artist_name': 'artist'\n",
    "}, inplace=True)\n"
   ]
  },
  {
   "cell_type": "code",
   "execution_count": null,
   "id": "26b6c500",
   "metadata": {},
   "outputs": [],
   "source": [
    "# Convertir durée en secondes\n",
    "songs_df['duration_sec'] = songs_df['duration_ms'] / 1000\n",
    "songs_df.drop(columns=['duration_ms'], inplace=True)\n"
   ]
  },
  {
   "cell_type": "code",
   "execution_count": 12,
   "id": "c0e9db2f",
   "metadata": {},
   "outputs": [],
   "source": [
    "# Forcer ID en str\n",
    "songs_df['track_id'] = songs_df['track_id'].astype(str)\n",
    "songs_df = songs_df.set_index('track_id')\n"
   ]
  },
  {
   "cell_type": "code",
   "execution_count": 13,
   "id": "e02a154f",
   "metadata": {},
   "outputs": [
    {
     "name": "stdout",
     "output_type": "stream",
     "text": [
      "songs_df prêt : (232724, 4)\n",
      "                                                   title             artist  \\\n",
      "track_id                                                                      \n",
      "0BRjO6ga9RKCKjfDqeFgWV       C'est beau de faire un Show     Henri Salvador   \n",
      "0BjC1NfoEOOusryehmNudP  Perdu d'avance (par Gad Elmaleh)  Martin & les fées   \n",
      "0CoSDzoNIKCRs124s9uTVy    Don't Let Me Be Lonely Tonight    Joseph Williams   \n",
      "\n",
      "                        genre  duration_sec  \n",
      "track_id                                     \n",
      "0BRjO6ga9RKCKjfDqeFgWV  Movie        99.373  \n",
      "0BjC1NfoEOOusryehmNudP  Movie       137.373  \n",
      "0CoSDzoNIKCRs124s9uTVy  Movie       170.267  \n"
     ]
    }
   ],
   "source": [
    "# Drop NA sans year\n",
    "songs_df = songs_df.dropna(subset=['title', 'artist', 'genre'])\n",
    "\n",
    "print(f\"songs_df prêt : {songs_df.shape}\")\n",
    "print(songs_df.head(3))"
   ]
  },
  {
   "cell_type": "code",
   "execution_count": 14,
   "id": "c2f6976a",
   "metadata": {},
   "outputs": [
    {
     "name": "stdout",
     "output_type": "stream",
     "text": [
      "Sauvegarde : songs_metadata.csv\n"
     ]
    }
   ],
   "source": [
    "# Sauver version brute\n",
    "songs_df.to_csv(os.path.join(outputs_dir, \"songs_metadata.csv\"))\n",
    "print(\"Sauvegarde : songs_metadata.csv\")"
   ]
  },
  {
   "cell_type": "code",
   "execution_count": 15,
   "id": "eb1d12ad",
   "metadata": {},
   "outputs": [],
   "source": [
    "# Dédupliquer pour embeddings\n",
    "songs_df_dedup = songs_df.reset_index().drop_duplicates(subset=['title', 'artist']).reset_index(drop=True)\n",
    "songs_df_dedup['dedup_id'] = songs_df_dedup.index\n",
    "songs_df_dedup = songs_df_dedup.set_index('dedup_id')\n"
   ]
  },
  {
   "cell_type": "code",
   "execution_count": 16,
   "id": "ee615c0d",
   "metadata": {},
   "outputs": [
    {
     "name": "stdout",
     "output_type": "stream",
     "text": [
      "Sauvegarde : songs_metadata_dedup.csv ((176513, 5))\n"
     ]
    }
   ],
   "source": [
    "songs_df_dedup.to_csv(os.path.join(outputs_dir, \"songs_metadata_dedup.csv\"))\n",
    "print(f\"Sauvegarde : songs_metadata_dedup.csv ({songs_df_dedup.shape})\")"
   ]
  },
  {
   "cell_type": "code",
   "execution_count": 17,
   "id": "74f39efc",
   "metadata": {},
   "outputs": [
    {
     "name": "stdout",
     "output_type": "stream",
     "text": [
      "Playlists simulées : 27 exemples\n",
      "Exemple : ['0PuWvFJqZPJAxZNrFgw8xL', '1iXJKuzDH0E6PnTk2lQXAq', '3XxwdU13609bTGaAFRg3PA', '0crWDkAajRTnsGuZ6CAU85', '6TK4I15u1oym5H2eETng4F']\n",
      "Sauvegarde : clean_playlists.pkl\n"
     ]
    }
   ],
   "source": [
    "\n",
    "\n",
    "\n",
    "\n",
    "# Simuler playlists factices par genre\n",
    "playlists = []\n",
    "for genre, group in songs_df.groupby('genre'):\n",
    "    pl = list(group.index)\n",
    "    if len(pl) > 2:\n",
    "        playlists.append(pl)\n",
    "\n",
    "print(f\"Playlists simulées : {len(playlists)} exemples\")\n",
    "print(f\"Exemple : {playlists[0][:5]}\")\n",
    "\n",
    "with open(os.path.join(outputs_dir, \"clean_playlists.pkl\"), 'wb') as f:\n",
    "    pickle.dump(playlists, f)\n",
    "\n",
    "print(\"Sauvegarde : clean_playlists.pkl\")"
   ]
  },
  {
   "cell_type": "code",
   "execution_count": 18,
   "id": "a51bc711",
   "metadata": {},
   "outputs": [
    {
     "data": {
      "text/html": [
       "<div>\n",
       "<style scoped>\n",
       "    .dataframe tbody tr th:only-of-type {\n",
       "        vertical-align: middle;\n",
       "    }\n",
       "\n",
       "    .dataframe tbody tr th {\n",
       "        vertical-align: top;\n",
       "    }\n",
       "\n",
       "    .dataframe thead th {\n",
       "        text-align: right;\n",
       "    }\n",
       "</style>\n",
       "<table border=\"1\" class=\"dataframe\">\n",
       "  <thead>\n",
       "    <tr style=\"text-align: right;\">\n",
       "      <th></th>\n",
       "      <th>track_id</th>\n",
       "      <th>title</th>\n",
       "      <th>artist</th>\n",
       "      <th>genre</th>\n",
       "      <th>duration_sec</th>\n",
       "    </tr>\n",
       "    <tr>\n",
       "      <th>dedup_id</th>\n",
       "      <th></th>\n",
       "      <th></th>\n",
       "      <th></th>\n",
       "      <th></th>\n",
       "      <th></th>\n",
       "    </tr>\n",
       "  </thead>\n",
       "  <tbody>\n",
       "    <tr>\n",
       "      <th>0</th>\n",
       "      <td>0BRjO6ga9RKCKjfDqeFgWV</td>\n",
       "      <td>C'est beau de faire un Show</td>\n",
       "      <td>Henri Salvador</td>\n",
       "      <td>Movie</td>\n",
       "      <td>99.373</td>\n",
       "    </tr>\n",
       "    <tr>\n",
       "      <th>1</th>\n",
       "      <td>0BjC1NfoEOOusryehmNudP</td>\n",
       "      <td>Perdu d'avance (par Gad Elmaleh)</td>\n",
       "      <td>Martin &amp; les fées</td>\n",
       "      <td>Movie</td>\n",
       "      <td>137.373</td>\n",
       "    </tr>\n",
       "    <tr>\n",
       "      <th>2</th>\n",
       "      <td>0CoSDzoNIKCRs124s9uTVy</td>\n",
       "      <td>Don't Let Me Be Lonely Tonight</td>\n",
       "      <td>Joseph Williams</td>\n",
       "      <td>Movie</td>\n",
       "      <td>170.267</td>\n",
       "    </tr>\n",
       "    <tr>\n",
       "      <th>3</th>\n",
       "      <td>0Gc6TVm52BwZD07Ki6tIvf</td>\n",
       "      <td>Dis-moi Monsieur Gordon Cooper</td>\n",
       "      <td>Henri Salvador</td>\n",
       "      <td>Movie</td>\n",
       "      <td>152.427</td>\n",
       "    </tr>\n",
       "    <tr>\n",
       "      <th>4</th>\n",
       "      <td>0IuslXpMROHdEPvSl1fTQK</td>\n",
       "      <td>Ouverture</td>\n",
       "      <td>Fabien Nataf</td>\n",
       "      <td>Movie</td>\n",
       "      <td>82.625</td>\n",
       "    </tr>\n",
       "    <tr>\n",
       "      <th>...</th>\n",
       "      <td>...</td>\n",
       "      <td>...</td>\n",
       "      <td>...</td>\n",
       "      <td>...</td>\n",
       "      <td>...</td>\n",
       "    </tr>\n",
       "    <tr>\n",
       "      <th>176508</th>\n",
       "      <td>2XoAEpBuM4AtQIQYUEowRy</td>\n",
       "      <td>They Like It Slow</td>\n",
       "      <td>H-Town</td>\n",
       "      <td>Soul</td>\n",
       "      <td>279.510</td>\n",
       "    </tr>\n",
       "    <tr>\n",
       "      <th>176509</th>\n",
       "      <td>1U0OMWvR89Cm20vCNar50f</td>\n",
       "      <td>Quickly (feat. Brandy)</td>\n",
       "      <td>John Legend</td>\n",
       "      <td>Soul</td>\n",
       "      <td>222.667</td>\n",
       "    </tr>\n",
       "    <tr>\n",
       "      <th>176510</th>\n",
       "      <td>2gGqKJWfWbToha2YmDxnnj</td>\n",
       "      <td>P.O.P.</td>\n",
       "      <td>Belly</td>\n",
       "      <td>Soul</td>\n",
       "      <td>201.173</td>\n",
       "    </tr>\n",
       "    <tr>\n",
       "      <th>176511</th>\n",
       "      <td>1qWZdkBl4UVPj9lK6HuuFM</td>\n",
       "      <td>Burning Fire</td>\n",
       "      <td>Jr Thomas &amp; The Volcanos</td>\n",
       "      <td>Soul</td>\n",
       "      <td>282.447</td>\n",
       "    </tr>\n",
       "    <tr>\n",
       "      <th>176512</th>\n",
       "      <td>34XO9RwPMKjbvRry54QzWn</td>\n",
       "      <td>You Don't Have To Hurt No More</td>\n",
       "      <td>Mint Condition</td>\n",
       "      <td>Soul</td>\n",
       "      <td>323.027</td>\n",
       "    </tr>\n",
       "  </tbody>\n",
       "</table>\n",
       "<p>176513 rows × 5 columns</p>\n",
       "</div>"
      ],
      "text/plain": [
       "                        track_id                             title  \\\n",
       "dedup_id                                                             \n",
       "0         0BRjO6ga9RKCKjfDqeFgWV       C'est beau de faire un Show   \n",
       "1         0BjC1NfoEOOusryehmNudP  Perdu d'avance (par Gad Elmaleh)   \n",
       "2         0CoSDzoNIKCRs124s9uTVy    Don't Let Me Be Lonely Tonight   \n",
       "3         0Gc6TVm52BwZD07Ki6tIvf    Dis-moi Monsieur Gordon Cooper   \n",
       "4         0IuslXpMROHdEPvSl1fTQK                         Ouverture   \n",
       "...                          ...                               ...   \n",
       "176508    2XoAEpBuM4AtQIQYUEowRy                 They Like It Slow   \n",
       "176509    1U0OMWvR89Cm20vCNar50f            Quickly (feat. Brandy)   \n",
       "176510    2gGqKJWfWbToha2YmDxnnj                            P.O.P.   \n",
       "176511    1qWZdkBl4UVPj9lK6HuuFM                      Burning Fire   \n",
       "176512    34XO9RwPMKjbvRry54QzWn    You Don't Have To Hurt No More   \n",
       "\n",
       "                            artist  genre  duration_sec  \n",
       "dedup_id                                                 \n",
       "0                   Henri Salvador  Movie        99.373  \n",
       "1                Martin & les fées  Movie       137.373  \n",
       "2                  Joseph Williams  Movie       170.267  \n",
       "3                   Henri Salvador  Movie       152.427  \n",
       "4                     Fabien Nataf  Movie        82.625  \n",
       "...                            ...    ...           ...  \n",
       "176508                      H-Town   Soul       279.510  \n",
       "176509                 John Legend   Soul       222.667  \n",
       "176510                       Belly   Soul       201.173  \n",
       "176511    Jr Thomas & The Volcanos   Soul       282.447  \n",
       "176512              Mint Condition   Soul       323.027  \n",
       "\n",
       "[176513 rows x 5 columns]"
      ]
     },
     "execution_count": 18,
     "metadata": {},
     "output_type": "execute_result"
    }
   ],
   "source": [
    "songs_df_dedup"
   ]
  }
 ],
 "metadata": {
  "kernelspec": {
   "display_name": "Python 3",
   "language": "python",
   "name": "python3"
  },
  "language_info": {
   "codemirror_mode": {
    "name": "ipython",
    "version": 3
   },
   "file_extension": ".py",
   "mimetype": "text/x-python",
   "name": "python",
   "nbconvert_exporter": "python",
   "pygments_lexer": "ipython3",
   "version": "3.11.8"
  }
 },
 "nbformat": 4,
 "nbformat_minor": 5
}
